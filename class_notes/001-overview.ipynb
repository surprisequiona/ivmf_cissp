{
 "cells": [
  {
   "cell_type": "markdown",
   "metadata": {},
   "source": [
    "# ISC<sup>2</sup> and CISSP Exam\n",
    "\n",
    "## Code of Professional Ethics\n",
    "\n",
    "* All ISC2 certification holders must commit to and support the code of ethics\n",
    "\n",
    "* Intentional violation subject to peer review panel, which may result in revocation\n",
    "\n",
    "* Members are obligated to follow ethics complaint procedure if observing another ISC2 member breach code\n",
    "\n",
    "  * Failure to do so may be considered a breach pursuant to Canon IV\n",
    "\n",
    "#### Code of Ethics Preamble\n",
    "\n",
    "    The safety and welfare of society and the common good, duty to our principals, and to each other, requires that we adhere, and be seen to adhere, to the highest ethical standards of behavior.  \n",
    "\n",
    "    Therefore, stric adherence to this Code is a condition of certification\n",
    "\n",
    "#### Code of Ethics Canons\n",
    "\n",
    "  1.  Protect society, the common good, necessary pubilc trust and confidence, and the infrastructure\n",
    "\n",
    "  2.  Act honorably, honestly, responsibly, and legally\n",
    "\n",
    "  3.  Provide dilligent and competent service to principals\n",
    "\n",
    "  4.  Advance and protect the profession\n",
    "\n",
    "## CISSP CAT & Linear Exam\n",
    "\n",
    "* CAT - computerized adaptive testing \n",
    "  *  4 hour exam\n",
    "  *  Adaptive questions and types - incl. drag & drop\n",
    "  *  Passing is 700 of 1,000\n",
    "  *  CAT is offered in English only    \n",
    "<br>\n",
    "\n",
    "* Linear Exam\n",
    "  * Fixed-form 6 hour exam\n",
    "  * Multiple choice & other types like drag & drop\n",
    "  * Offered in other languges\n",
    "\n",
    "#### Exam Weights\n",
    "\n",
    "Domain and Weights:\n",
    "\n",
    "![domain_weights](images/001-exam_weights.png)\n",
    "\n",
    "<p style=\"text-align: center;\">Exam Weights</p>\n",
    "\n"
   ]
  }
 ],
 "metadata": {
  "language_info": {
   "name": "python"
  },
  "orig_nbformat": 4
 },
 "nbformat": 4,
 "nbformat_minor": 2
}
